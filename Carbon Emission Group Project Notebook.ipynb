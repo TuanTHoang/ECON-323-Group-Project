{
 "cells": [
  {
   "cell_type": "code",
   "execution_count": 10,
   "metadata": {},
   "outputs": [
    {
     "name": "stdout",
     "output_type": "stream",
     "text": [
      "                              Unit: MtCO2e  1990  1991  1992  1993  1994  \\\n",
      "0                                   TOTAL1  54.7  53.3  52.2  54.9  57.3   \n",
      "1                                   ENERGY  42.6  41.5  40.3  43.1  45.4   \n",
      "2                    STATIONARY COMBUSTION  19.3  18.1  16.9  19.1  19.2   \n",
      "3  Public Electricity and Heat Production    0.8   0.5   0.9   2.0   1.8   \n",
      "4            Petroleum Refining Industries   1.2   1.2   1.0   0.7   0.7   \n",
      "\n",
      "   1995  1996  1997  1998  ...  2018  2019  2020  2021 2007→2021  \\\n",
      "0  61.1  63.2  62.3  63.2  ...  66.2  65.2  61.4  62.0      -1.8   \n",
      "1  49.1  51.0  49.9  50.7  ...  55.3  54.4  50.9  51.8      -0.2   \n",
      "2  21.6  22.1  19.9  20.4  ...  21.9  21.2  20.6  20.9      -0.1   \n",
      "3   2.3   0.6   1.1   1.8  ...   1.0   1.0   0.7   0.9      -0.4   \n",
      "4   0.6   0.7   0.4   0.4  ...   0.4   0.5   0.4   0.4      -0.2   \n",
      "\n",
      "  2007->2021 pct 2020→2021 2020->2021 pct 3-Year Trend 3-Year Trend pct  \n",
      "0            -3%      +0.6            +1%         -4.2              -6%  \n",
      "1            -0%       0.9            +2%         -3.4              -6%  \n",
      "2            -0%      +0.3            +1%         -1.0              -5%  \n",
      "3           -31%      +0.2           +31%         -0.1              -7%  \n",
      "4           -31%      +0.1           +14%         +0.1             +16%  \n",
      "\n",
      "[5 rows x 39 columns]\n"
     ]
    }
   ],
   "source": [
    "import pandas as pd\n",
    "\n",
    "ghg = \"BC_GHG_1990-2021.csv\" \n",
    "ghgdata = pd.read_csv(ghg, skiprows=2)\n",
    "\n",
    "ghgdata = ghgdata.dropna(how='all', axis=1) \n",
    "ghgdata = ghgdata.dropna(how='all', axis=0) \n",
    "\n",
    "ghgdata = ghgdata.iloc[:85]  # Retain rows 0 to 84 (inclusive)\n",
    "\n",
    "rename_mapping = {\n",
    "    \"Unnamed: 36\": \"2007->2021 pct\",\n",
    "    \"Unnamed: 38\": \"2020->2021 pct\",\n",
    "    \"Unnamed: 40\": \"3-Year Trend pct\"\n",
    "}\n",
    "ghgdata = ghgdata.rename(columns=rename_mapping)\n",
    "\n",
    "print(ghgdata.head())\n"
   ]
  },
  {
   "cell_type": "code",
   "execution_count": 11,
   "metadata": {},
   "outputs": [
    {
     "name": "stdout",
     "output_type": "stream",
     "text": [
      "                                Unit: MtCO2e  1990  1991  1992  1993  1994  \\\n",
      "81  Decomposition of Harvested Wood Products  29.2  33.9  40.4  43.1  43.9   \n",
      "82                       Cropland Management  -0.1  -0.1   0.0   0.1  -0.2   \n",
      "83                        Wetland Management   0.1   0.1   0.1   0.1   0.1   \n",
      "84                      Grassland Management     -     -   0.0     -     -   \n",
      "85                     Settlement Management  -1.6  -1.6  -1.6  -1.6  -1.6   \n",
      "\n",
      "    1995  1996  1997  1998  ...  2018  2019  2020  2021 2007→2021  \\\n",
      "81  45.7  44.7  43.4  39.9  ...  47.9  42.7  41.9  41.5      -1.3   \n",
      "82  -0.1  -0.2   0.2   0.1  ...   0.1  -0.1   0.2   0.3      +0.1   \n",
      "83   0.1   0.1   0.1   0.1  ...   0.1   0.1   0.0   0.0      -0.0   \n",
      "84     -   0.0     -   0.0  ...   0.0   0.0   0.0   0.0      +0.0   \n",
      "85  -1.6  -1.6  -1.6  -1.6  ...  -1.6  -1.6  -1.6  -1.6      +0.0   \n",
      "\n",
      "   2007->2021 pct 2020→2021 2020->2021 pct 3-Year Trend 3-Year Trend pct  \n",
      "81            -3%      -0.4            -1%         -6.3             -13%  \n",
      "82           +35%      +0.1           +38%         +0.2            +145%  \n",
      "83           -33%      -0.0            -2%         -0.0              -8%  \n",
      "84       +42,382%       0.0             0%          0.0               0%  \n",
      "85            -1%       0.0             0%          0.0               0%  \n",
      "\n",
      "[5 rows x 39 columns]\n"
     ]
    }
   ],
   "source": [
    "print(ghgdata.tail())"
   ]
  },
  {
   "cell_type": "code",
   "execution_count": 17,
   "metadata": {},
   "outputs": [
    {
     "name": "stdout",
     "output_type": "stream",
     "text": [
      "                                   Unnamed: 0     1997     1998     1999  \\\n",
      "1                              All industries  154,315  155,817  160,987   \n",
      "2                  Goods-producing industries   39,203   38,082   40,201   \n",
      "3  Agriculture, forestry, fishing and hunting    5,369    5,409    5,287   \n",
      "4                  Crop and animal production    1,540    1,601    1,713   \n",
      "5                        Forestry and logging    2,896    2,939    2,764   \n",
      "\n",
      "      2000     2001     2002     2003     2004     2005  ...     2014  \\\n",
      "1  168,580  169,520  175,973  180,365  187,742  196,743  ...  238,306   \n",
      "2   44,068   42,538   43,211   44,167   47,601   50,948  ...   57,277   \n",
      "3    5,155    5,373    5,366    5,535    5,966    6,045  ...    6,218   \n",
      "4    1,668    1,968    1,940    2,075    2,206    2,280  ...    2,778   \n",
      "5    2,568    2,535    2,591    2,564    2,904    2,884  ...    2,490   \n",
      "\n",
      "      2015     2016     2017     2018     2019     2020     2021     2022  \\\n",
      "1  243,846  251,036  260,220  270,106  277,848  269,190  290,178  302,119   \n",
      "2   57,975   59,155   61,084   64,064   64,966   63,938   67,975   69,482   \n",
      "3    6,471    6,199    6,272    6,660    6,109    6,086    6,239    6,088   \n",
      "4    2,958    2,907    2,913    3,065    3,197    3,182    2,917    3,098   \n",
      "5    2,481    2,275    2,319    2,433    1,882    1,847    2,099    1,895   \n",
      "\n",
      "      2023  \n",
      "1  309,420  \n",
      "2   69,793  \n",
      "3    5,700  \n",
      "4    2,959  \n",
      "5    1,679  \n",
      "\n",
      "[5 rows x 28 columns]\n"
     ]
    }
   ],
   "source": [
    "gdp = \"BC_GDP_1997-2023.csv\" \n",
    "gdpdata = pd.read_csv(gdp, skiprows=3)\n",
    "\n",
    "gdpdata = gdpdata.dropna(how='all', axis=1) \n",
    "gdpdata = gdpdata.dropna(how='all', axis=0) \n",
    "\n",
    "gdpdata = gdpdata.iloc[:82]  # Retain rows 0 to 84 (inclusive)\n",
    "\n",
    "print(gdpdata.head())\n"
   ]
  },
  {
   "cell_type": "code",
   "execution_count": 18,
   "metadata": {},
   "outputs": [
    {
     "name": "stdout",
     "output_type": "stream",
     "text": [
      "                                           Unnamed: 0     1997     1998  \\\n",
      "80  Information and communication technology, manu...      162      199   \n",
      "81  Information and communication technology, serv...    3,842    4,195   \n",
      "82                                      Energy sector    9,441    9,112   \n",
      "83            All industries (except cannabis sector)  153,770  155,182   \n",
      "84                                    Cannabis sector      664      728   \n",
      "\n",
      "       1999     2000     2001     2002     2003     2004     2005  ...  \\\n",
      "80      325      590      434      298      319      394      417  ...   \n",
      "81    4,565    5,098    5,235    5,979    6,746    7,026    7,485  ...   \n",
      "82    9,583   11,265   11,014   10,961   10,918   11,178   12,644  ...   \n",
      "83  160,326  167,911  168,674  175,074  179,363  186,714  195,663  ...   \n",
      "84      756      775      899      948    1,026    1,058    1,111  ...   \n",
      "\n",
      "       2014     2015     2016     2017     2018     2019     2020     2021  \\\n",
      "80      333      300      276      278      383      412      390      452   \n",
      "81    9,354    9,750   10,226   10,650   11,364   12,208   12,849   15,003   \n",
      "82   13,086   13,120   13,889   14,150   14,850   14,704   13,796   14,477   \n",
      "83  236,813  242,317  249,578  258,785  268,546  276,139  267,450  288,491   \n",
      "84    1,472    1,509    1,455    1,436    1,561    1,718    1,762    1,642   \n",
      "\n",
      "       2022     2023  \n",
      "80      473      422  \n",
      "81   16,787   17,582  \n",
      "82   15,201   15,463  \n",
      "83  300,260  307,461  \n",
      "84    1,877    2,022  \n",
      "\n",
      "[5 rows x 28 columns]\n"
     ]
    }
   ],
   "source": [
    "print(gdpdata.tail())"
   ]
  },
  {
   "cell_type": "code",
   "execution_count": null,
   "metadata": {},
   "outputs": [],
   "source": []
  }
 ],
 "metadata": {
  "kernelspec": {
   "display_name": "base",
   "language": "python",
   "name": "python3"
  },
  "language_info": {
   "codemirror_mode": {
    "name": "ipython",
    "version": 3
   },
   "file_extension": ".py",
   "mimetype": "text/x-python",
   "name": "python",
   "nbconvert_exporter": "python",
   "pygments_lexer": "ipython3",
   "version": "3.12.4"
  }
 },
 "nbformat": 4,
 "nbformat_minor": 2
}
