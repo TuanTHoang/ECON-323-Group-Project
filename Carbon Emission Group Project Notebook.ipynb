{
 "cells": [
  {
   "cell_type": "code",
   "execution_count": 5,
   "metadata": {},
   "outputs": [
    {
     "name": "stdout",
     "output_type": "stream",
     "text": [
      "                              Unit: MtCO2e  1990  1991  1992  1993  1994  \\\n",
      "0                                   TOTAL1  54.7  53.3  52.2  54.9  57.3   \n",
      "1                                   ENERGY  42.6  41.5  40.3  43.1  45.4   \n",
      "2                    STATIONARY COMBUSTION  19.3  18.1  16.9  19.1  19.2   \n",
      "3  Public Electricity and Heat Production    0.8   0.5   0.9   2.0   1.8   \n",
      "4            Petroleum Refining Industries   1.2   1.2   1.0   0.7   0.7   \n",
      "\n",
      "   1995  1996  1997  1998  ...  2018  2019  2020  2021 2007→2021  \\\n",
      "0  61.1  63.2  62.3  63.2  ...  66.2  65.2  61.4  62.0      -1.8   \n",
      "1  49.1  51.0  49.9  50.7  ...  55.3  54.4  50.9  51.8      -0.2   \n",
      "2  21.6  22.1  19.9  20.4  ...  21.9  21.2  20.6  20.9      -0.1   \n",
      "3   2.3   0.6   1.1   1.8  ...   1.0   1.0   0.7   0.9      -0.4   \n",
      "4   0.6   0.7   0.4   0.4  ...   0.4   0.5   0.4   0.4      -0.2   \n",
      "\n",
      "  2007->2021 pct 2020→2021 2020->2021 pct 3-Year Trend 3-Year Trend pct  \n",
      "0            -3%      +0.6            +1%         -4.2              -6%  \n",
      "1            -0%       0.9            +2%         -3.4              -6%  \n",
      "2            -0%      +0.3            +1%         -1.0              -5%  \n",
      "3           -31%      +0.2           +31%         -0.1              -7%  \n",
      "4           -31%      +0.1           +14%         +0.1             +16%  \n",
      "\n",
      "[5 rows x 39 columns]\n"
     ]
    }
   ],
   "source": [
    "import pandas as pd\n",
    "\n",
    "# Load the dataset (adjust the file path and format)\n",
    "file_path = \"BC_GHG_1990-2021.csv\"  # Replace this with your actual file path\n",
    "data = pd.read_csv(file_path, skiprows=2)  # Skip the first two rows\n",
    "\n",
    "# Drop unnecessary columns or rows with NaN if needed\n",
    "data = data.dropna(how='all', axis=1)  # Drop empty columns\n",
    "data = data.dropna(how='all', axis=0)  # Drop empty rows (optional)\n",
    "\n",
    "# Keep only the rows up to row 89 (Python is zero-indexed)\n",
    "data = data.iloc[:85]  # Retain rows 0 to 84 (inclusive)\n",
    "\n",
    "# Rename the specified columns\n",
    "rename_mapping = {\n",
    "    \"Unnamed: 36\": \"2007->2021 pct\",\n",
    "    \"Unnamed: 38\": \"2020->2021 pct\",\n",
    "    \"Unnamed: 40\": \"3-Year Trend pct\"\n",
    "}\n",
    "data = data.rename(columns=rename_mapping)\n",
    "\n",
    "# Display the cleaned dataset\n",
    "print(data.head())  # Preview the first few rows\n"
   ]
  },
  {
   "cell_type": "code",
   "execution_count": 6,
   "metadata": {},
   "outputs": [
    {
     "name": "stdout",
     "output_type": "stream",
     "text": [
      "                                Unit: MtCO2e  1990  1991  1992  1993  1994  \\\n",
      "81  Decomposition of Harvested Wood Products  29.2  33.9  40.4  43.1  43.9   \n",
      "82                       Cropland Management  -0.1  -0.1   0.0   0.1  -0.2   \n",
      "83                        Wetland Management   0.1   0.1   0.1   0.1   0.1   \n",
      "84                      Grassland Management     -     -   0.0     -     -   \n",
      "85                     Settlement Management  -1.6  -1.6  -1.6  -1.6  -1.6   \n",
      "\n",
      "    1995  1996  1997  1998  ...  2018  2019  2020  2021 2007→2021  \\\n",
      "81  45.7  44.7  43.4  39.9  ...  47.9  42.7  41.9  41.5      -1.3   \n",
      "82  -0.1  -0.2   0.2   0.1  ...   0.1  -0.1   0.2   0.3      +0.1   \n",
      "83   0.1   0.1   0.1   0.1  ...   0.1   0.1   0.0   0.0      -0.0   \n",
      "84     -   0.0     -   0.0  ...   0.0   0.0   0.0   0.0      +0.0   \n",
      "85  -1.6  -1.6  -1.6  -1.6  ...  -1.6  -1.6  -1.6  -1.6      +0.0   \n",
      "\n",
      "   2007->2021 pct 2020→2021 2020->2021 pct 3-Year Trend 3-Year Trend pct  \n",
      "81            -3%      -0.4            -1%         -6.3             -13%  \n",
      "82           +35%      +0.1           +38%         +0.2            +145%  \n",
      "83           -33%      -0.0            -2%         -0.0              -8%  \n",
      "84       +42,382%       0.0             0%          0.0               0%  \n",
      "85            -1%       0.0             0%          0.0               0%  \n",
      "\n",
      "[5 rows x 39 columns]\n"
     ]
    }
   ],
   "source": [
    "print(data.tail())"
   ]
  },
  {
   "cell_type": "code",
   "execution_count": null,
   "metadata": {},
   "outputs": [],
   "source": []
  }
 ],
 "metadata": {
  "kernelspec": {
   "display_name": "base",
   "language": "python",
   "name": "python3"
  },
  "language_info": {
   "codemirror_mode": {
    "name": "ipython",
    "version": 3
   },
   "file_extension": ".py",
   "mimetype": "text/x-python",
   "name": "python",
   "nbconvert_exporter": "python",
   "pygments_lexer": "ipython3",
   "version": "3.12.4"
  }
 },
 "nbformat": 4,
 "nbformat_minor": 2
}
